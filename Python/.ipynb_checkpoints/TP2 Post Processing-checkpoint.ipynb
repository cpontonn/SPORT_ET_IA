{
 "cells": [
  {
   "cell_type": "markdown",
   "metadata": {},
   "source": [
    "# TP cinématique et dynamique en analyse du mouvement 2\n",
    "**Charles Pontonnier - Franck Multon**\n",
    "\n",
    "## Post processing des données cinématiques et dynamiques\n",
    "\n"
   ]
  },
  {
   "cell_type": "markdown",
   "metadata": {},
   "source": [
    "## Setup du Notebook"
   ]
  },
  {
   "cell_type": "code",
   "execution_count": 5,
   "metadata": {},
   "outputs": [],
   "source": [
    "#Import des librairies de calcul et de visu\n",
    "import matplotlib.pyplot as plt\n",
    "import numpy as np\n",
    "import os\n",
    "from scipy import signal"
   ]
  },
  {
   "cell_type": "markdown",
   "metadata": {},
   "source": [
    "## Récupération des angles articulaires"
   ]
  },
  {
   "cell_type": "code",
   "execution_count": 6,
   "metadata": {},
   "outputs": [],
   "source": [
    "# Fonction de récupération des données d'OpenSim\n",
    "def readMotionFile(filename):\n",
    "    \"\"\" Reads OpenSim .sto files.\n",
    "    Parameters\n",
    "    ----------\n",
    "    filename: absolute path to the .sto file\n",
    "    Returns\n",
    "    -------\n",
    "    header: the header of the .sto\n",
    "    labels: the labels of the columns\n",
    "    data: an array of the data\n",
    "    \"\"\"\n",
    "\n",
    "    if not os.path.exists(filename):\n",
    "        print('file do not exists')\n",
    "\n",
    "    file_id = open(filename, 'r')\n",
    "\n",
    "    # read header\n",
    "    next_line = file_id.readline()\n",
    "    header = [next_line]\n",
    "    nc = 0\n",
    "    nr = 0\n",
    "    while not 'endheader' in next_line:\n",
    "        if 'datacolumns' in next_line:\n",
    "            nc = int(next_line[next_line.index(' ') + 1:len(next_line)])\n",
    "        elif 'datarows' in next_line:\n",
    "            nr = int(next_line[next_line.index(' ') + 1:len(next_line)])\n",
    "    \n",
    "        elif 'nColumns' in next_line:\n",
    "            nc = int(next_line[next_line.index('=') + 1:len(next_line)])\n",
    "        elif 'nRows' in next_line:\n",
    "            nr = int(next_line[next_line.index('=') + 1:len(next_line)])\n",
    "\n",
    "        next_line = file_id.readline()\n",
    "        header.append(next_line)\n",
    "\n",
    "    # process column labels\n",
    "    next_line = file_id.readline()\n",
    "    if next_line.isspace() == True:\n",
    "        next_line = file_id.readline()\n",
    "\n",
    "    labels = next_line.split()\n",
    "\n",
    "    # get data\n",
    "    data = []\n",
    "    for i in range(1, nr + 1):\n",
    "        d = [float(x) for x in file_id.readline().split()]\n",
    "        data.append(d)\n",
    "\n",
    "    file_id.close()\n",
    "\n",
    "    return header, labels, data"
   ]
  },
  {
   "cell_type": "markdown",
   "metadata": {},
   "source": [
    "## Analyse cinématique\n",
    "Dans cette partie nous analysons les angles de flexion de l'épaule et du coude armés lors de la fente"
   ]
  },
  {
   "cell_type": "code",
   "execution_count": 7,
   "metadata": {},
   "outputs": [],
   "source": [
    "#récupération des données de cinématique\n",
    "[h,l,d]=readMotionFile('../DATA/backup/Trial010_IK.mot')"
   ]
  },
  {
   "cell_type": "code",
   "execution_count": 8,
   "metadata": {},
   "outputs": [
    {
     "name": "stdout",
     "output_type": "stream",
     "text": [
      "['time', 'pelvis_tilt', 'pelvis_list', 'pelvis_rotation', 'pelvis_tx', 'pelvis_ty', 'pelvis_tz', 'hip_flexion_r', 'hip_adduction_r', 'hip_rotation_r', 'knee_angle_r', 'knee_angle_r_beta', 'ankle_angle_r', 'subtalar_angle_r', 'mtp_angle_r', 'hip_flexion_l', 'hip_adduction_l', 'hip_rotation_l', 'knee_angle_l', 'knee_angle_l_beta', 'ankle_angle_l', 'subtalar_angle_l', 'mtp_angle_l', 'lumbar_extension', 'lumbar_bending', 'lumbar_rotation', 'arm_flex_r', 'arm_add_r', 'arm_rot_r', 'elbow_flex_r', 'pro_sup_r', 'wrist_flex_r', 'wrist_dev_r', 'arm_flex_l', 'arm_add_l', 'arm_rot_l', 'elbow_flex_l', 'pro_sup_l', 'wrist_flex_l', 'wrist_dev_l']\n"
     ]
    }
   ],
   "source": [
    "#impression des labels\n",
    "print(l)"
   ]
  },
  {
   "cell_type": "code",
   "execution_count": 9,
   "metadata": {},
   "outputs": [],
   "source": [
    "# Récupération des angles du coude et de l'épaule\n",
    "flex_shoulder_l=np.zeros(len(d))\n",
    "flex_elbow_l=np.zeros(len(d))\n",
    "time=np.zeros(len(d))\n",
    "for i in range(len(d)):\n",
    "    flex_shoulder_l[i]=d[i][33]\n",
    "    flex_elbow_l[i]=d[i][36]\n",
    "    time[i]=d[i][0]\n"
   ]
  },
  {
   "cell_type": "code",
   "execution_count": 10,
   "metadata": {},
   "outputs": [
    {
     "data": {
      "image/png": "[encoded data removed]",
      "text/plain": [
       "<Figure size 432x288 with 1 Axes>"
      ]
     },
     "metadata": {
      "needs_background": "light"
     },
     "output_type": "display_data"
    }
   ],
   "source": [
    "#tracé des données épaule et coude\n",
    "plt.plot(time,flex_shoulder_l,'ob') \n",
    "plt.plot(time,flex_elbow_l,'or')\n",
    "plt.grid()\n",
    "plt.legend(['Shoulder flexion','Elbow flexion'])\n",
    "plt.xlabel('time (s)')\n",
    "plt.ylabel('angle (°)')\n",
    "plt.show()\n",
    "\n"
   ]
  },
  {
   "cell_type": "markdown",
   "metadata": {},
   "source": [
    "## Analyse Dynamique\n",
    "Dans cette partie on analyse le couple au niveau du genou d'appui lors de la fente"
   ]
  },
  {
   "cell_type": "code",
   "execution_count": 11,
   "metadata": {},
   "outputs": [],
   "source": [
    "#Récupération des données dynamiques (couples articulaires)\n",
    "[h2,l2,d2]=readMotionFile('../DATA/backup/Trial010_ID.sto')"
   ]
  },
  {
   "cell_type": "code",
   "execution_count": 12,
   "metadata": {},
   "outputs": [
    {
     "name": "stdout",
     "output_type": "stream",
     "text": [
      "['time', 'pelvis_tilt_moment', 'pelvis_list_moment', 'pelvis_rotation_moment', 'pelvis_tx_force', 'pelvis_ty_force', 'pelvis_tz_force', 'hip_flexion_r_moment', 'hip_adduction_r_moment', 'hip_rotation_r_moment', 'hip_flexion_l_moment', 'hip_adduction_l_moment', 'hip_rotation_l_moment', 'lumbar_extension_moment', 'lumbar_bending_moment', 'lumbar_rotation_moment', 'knee_angle_r_moment', 'knee_angle_r_beta_force', 'knee_angle_l_moment', 'knee_angle_l_beta_force', 'arm_flex_r_moment', 'arm_add_r_moment', 'arm_rot_r_moment', 'arm_flex_l_moment', 'arm_add_l_moment', 'arm_rot_l_moment', 'ankle_angle_r_moment', 'ankle_angle_l_moment', 'elbow_flex_r_moment', 'elbow_flex_l_moment', 'subtalar_angle_r_moment', 'subtalar_angle_l_moment', 'pro_sup_r_moment', 'pro_sup_l_moment', 'mtp_angle_r_moment', 'mtp_angle_l_moment', 'wrist_flex_r_moment', 'wrist_dev_r_moment', 'wrist_flex_l_moment', 'wrist_dev_l_moment']\n"
     ]
    }
   ],
   "source": [
    "#impression des labels\n",
    "print(l2)"
   ]
  },
  {
   "cell_type": "code",
   "execution_count": 13,
   "metadata": {},
   "outputs": [],
   "source": [
    "#Fonction donnant le couple maximal d'extension du genou en fonction de l'angle et de la vitesse angulaire\n",
    "def anderson_kneef_1825(q,dq,bm,h):\n",
    "    #Anderson, D. E., Madigan, M. L., & Nussbaum, M. A. (2007). \n",
    "    #Maximum voluntary joint torque as a function of joint angle and angular velocity: model development and application to the lower limb. \n",
    "    #Journal of biomechanics, 40(14), 3105-3113.\n",
    "    #q joint angle in rad\n",
    "    #dq joint velocity in rad/s\n",
    "    #bw body weight in kg\n",
    "    #h height in m    \n",
    "    \n",
    "    C1=0.163*h*bm*9.81;\n",
    "    C2=1.258;\n",
    "    C3=1.133;\n",
    "    C4=1.517;\n",
    "    C5=3.952;\n",
    "    C6=0.095;\n",
    "    B1=0;\n",
    "    k1=0;\n",
    "    B2=-6.25;\n",
    "    k2=-4.521;\n",
    "\n",
    "    Cmax=C1*np.cos(C2*(q-C3))*((2*C4*C5+dq*(C5-3*C4))/(2*C4*C5+dq*(2*C5-4*C4)));\n",
    "\n",
    "    if dq<0:\n",
    "        Cmax=Cmax*(1-C6*dq);\n",
    "    \n",
    "    return Cmax\n"
   ]
  },
  {
   "cell_type": "code",
   "execution_count": 15,
   "metadata": {
    "scrolled": false
   },
   "outputs": [
    {
     "data": {
      "image/png": "[encoded data removed]",
      "text/plain": [
       "<Figure size 432x288 with 4 Axes>"
      ]
     },
     "metadata": {
      "needs_background": "light"
     },
     "output_type": "display_data"
    }
   ],
   "source": [
    "\n",
    "flex_knee_angle_r=np.zeros(len(d2))\n",
    "flex_knee_torque_r=np.zeros(len(d2))\n",
    "flex_knee_torque_max_r=np.zeros(len(d2))\n",
    "#récupération de l'angle et du couple de flexion/extension du genou\n",
    "for i in range(len(d)):\n",
    "    flex_knee_angle_r[i]=d[i][10]\n",
    "    flex_knee_torque_r[i]=d2[i][16]\n",
    "\n",
    "# filtre passe-bas, 6Hz, no phase shift\n",
    "b, a = signal.butter(4, 6, btype='low', analog=False, output='ba', fs=250)\n",
    "flex_knee_angle_r = signal.filtfilt(b, a, flex_knee_angle_r, padlen=150)\n",
    "#obtention de la vitesse angulaire du genou\n",
    "flex_knee_velocity_r =np.diff(flex_knee_angle_r)*250\n",
    "#obtention du couple normalisé\n",
    "for i in range(len(d)-1):\n",
    "    flex_knee_torque_max_r[i]=flex_knee_torque_r[i]/anderson_kneef_1825(flex_knee_angle_r[i]*np.pi/180,flex_knee_velocity_r[i]*np.pi/180,85.5,1.77)\n",
    "\n",
    "\n",
    "plt.subplot(4,1,1)\n",
    "plt.plot(time,flex_knee_angle_r,'ob') #arm flexion l 33, elbow 36\n",
    "plt.grid()\n",
    "plt.xlabel('time (s)')\n",
    "plt.ylabel('Knee \\n angle (°)')\n",
    "plt.subplot(4,1,2)\n",
    "plt.plot(time[:-1],flex_knee_velocity_r,'or') #arm flexion l 33, elbow 36\n",
    "plt.grid()\n",
    "plt.xlabel('time (s)')\n",
    "plt.ylabel('Knee \\n velocity (°/s)')\n",
    "plt.subplot(4,1,3)\n",
    "plt.plot(time,flex_knee_torque_r,'og') #arm flexion l 33, elbow 36\n",
    "plt.grid()\n",
    "plt.xlabel('time (s)')\n",
    "plt.ylabel('Knee \\n torque (N.m)')\n",
    "plt.subplot(4,1,4)\n",
    "plt.plot(time,flex_knee_torque_max_r,'oc') #arm flexion l 33, elbow 36\n",
    "plt.grid()\n",
    "plt.xlabel('time (s)')\n",
    "plt.ylabel('Normalized \\n knee torque (%)')\n",
    "plt.ylim(-1.5, 1.5)\n",
    "plt.show()"
   ]
  },
  {
   "cell_type": "code",
   "execution_count": null,
   "metadata": {},
   "outputs": [],
   "source": []
  },
  {
   "cell_type": "code",
   "execution_count": null,
   "metadata": {},
   "outputs": [],
   "source": []
  },
  {
   "cell_type": "code",
   "execution_count": null,
   "metadata": {},
   "outputs": [],
   "source": []
  },
  {
   "cell_type": "code",
   "execution_count": null,
   "metadata": {},
   "outputs": [],
   "source": []
  }
 ],
 "metadata": {
  "kernelspec": {
   "display_name": "Python 3",
   "language": "python",
   "name": "python3"
  },
  "language_info": {
   "codemirror_mode": {
    "name": "ipython",
    "version": 3
   },
   "file_extension": ".py",
   "mimetype": "text/x-python",
   "name": "python",
   "nbconvert_exporter": "python",
   "pygments_lexer": "ipython3",
   "version": "3.7.3"
  }
 },
 "nbformat": 4,
 "nbformat_minor": 2
}
