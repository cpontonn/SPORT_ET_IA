{
 "cells": [
  {
   "cell_type": "markdown",
   "metadata": {},
   "source": [
    "# TP cinématique et dynamique en analyse du mouvement 2\n",
    "**Charles Pontonnier - Franck Multon**\n",
    "\n",
    "## Investigation erreur cinématique\n",
    "\n"
   ]
  },
  {
   "cell_type": "markdown",
   "metadata": {},
   "source": [
    "## Setup du Notebook"
   ]
  },
  {
   "cell_type": "code",
   "execution_count": 2,
   "metadata": {},
   "outputs": [],
   "source": [
    "#Import des librairies de calcul et de visu\n",
    "import matplotlib.pyplot as plt\n",
    "import numpy as np\n",
    "import os\n",
    "from scipy import signal"
   ]
  },
  {
   "cell_type": "markdown",
   "metadata": {},
   "source": [
    "## Récupération des erreurs cinématiques"
   ]
  },
  {
   "cell_type": "code",
   "execution_count": 3,
   "metadata": {},
   "outputs": [],
   "source": [
    "# Fonction de récupération des données d'OpenSim\n",
    "def readMotionFile(filename):\n",
    "    \"\"\" Reads OpenSim .sto files.\n",
    "    Parameters\n",
    "    ----------\n",
    "    filename: absolute path to the .sto file\n",
    "    Returns\n",
    "    -------\n",
    "    header: the header of the .sto\n",
    "    labels: the labels of the columns\n",
    "    data: an array of the data\n",
    "    \"\"\"\n",
    "\n",
    "    if not os.path.exists(filename):\n",
    "        print('file do not exists')\n",
    "\n",
    "    file_id = open(filename, 'r')\n",
    "\n",
    "    # read header\n",
    "    next_line = file_id.readline()\n",
    "    header = [next_line]\n",
    "    nc = 0\n",
    "    nr = 0\n",
    "    while not 'endheader' in next_line:\n",
    "        if 'datacolumns' in next_line:\n",
    "            nc = int(next_line[next_line.index(' ') + 1:len(next_line)])\n",
    "        elif 'datarows' in next_line:\n",
    "            nr = int(next_line[next_line.index(' ') + 1:len(next_line)])\n",
    "    \n",
    "        elif 'nColumns' in next_line:\n",
    "            nc = int(next_line[next_line.index('=') + 1:len(next_line)])\n",
    "        elif 'nRows' in next_line:\n",
    "            nr = int(next_line[next_line.index('=') + 1:len(next_line)])\n",
    "\n",
    "        next_line = file_id.readline()\n",
    "        header.append(next_line)\n",
    "\n",
    "    # process column labels\n",
    "    next_line = file_id.readline()\n",
    "    if next_line.isspace() == True:\n",
    "        next_line = file_id.readline()\n",
    "\n",
    "    labels = next_line.split()\n",
    "\n",
    "    # get data\n",
    "    data = []\n",
    "    for i in range(1, nr + 1):\n",
    "        d = [float(x) for x in file_id.readline().split()]\n",
    "        data.append(d)\n",
    "\n",
    "    file_id.close()\n",
    "\n",
    "    return header, labels, data"
   ]
  },
  {
   "cell_type": "markdown",
   "metadata": {},
   "source": [
    "## Analyse cinématique\n",
    "Dans cette partie nous analysons les angles de flexion de l'épaule et du coude armés lors de la fente\n",
    "\n",
    "\n",
    "<font color='green'>**Question 4: indiquer dans la ligne de code ci-dessous où se trouve votre fichier d'erreur cinématique.**</font>"
   ]
  },
  {
   "cell_type": "code",
   "execution_count": 4,
   "metadata": {},
   "outputs": [],
   "source": [
    "#récupération des données de cinématique\n",
    "[h,l,d]=readMotionFile('../_ik_marker_errors.sto')"
   ]
  },
  {
   "cell_type": "code",
   "execution_count": 5,
   "metadata": {},
   "outputs": [
    {
     "name": "stdout",
     "output_type": "stream",
     "text": [
      "Erreur RMS moyenne 8.156949161947905\n",
      "Erreur max moyenne 0.021628940430351077\n"
     ]
    }
   ],
   "source": [
    "# Récupération des angles du coude et de l'épaule\n",
    "ERMS=np.zeros(len(d))\n",
    "Emax=np.zeros(len(d))\n",
    "Esquared=np.zeros(len(d))\n",
    "time=np.zeros(len(d))\n",
    "for i in range(len(d)):\n",
    "    ERMS[i]=d[i][2]\n",
    "    Emax[i]=d[i][3]\n",
    "    Esquared[i]=d[i][1] \n",
    "    time[i]=d[i][0]\n",
    "\n",
    "mean_RMS=np.mean(ERMS)\n",
    "max_RMS=np.mean(Emax)\n",
    "\n",
    "print('Erreur RMS moyenne',mean_RMS*1000, 'mm')\n",
    "print('Erreur max moyenne',max_RMS*1000,'mm')\n",
    "\n"
   ]
  },
  {
   "cell_type": "markdown",
   "metadata": {},
   "source": [
    "Les recommandations sur l'erreur cinématique sont d'avoir une erreur RMS de l'ordre de 2cm et une erreur maximale de l'ordre de 4cm. \n",
    "\n",
    "\n",
    "<font color='green'>**Question 5: Est-ce que les moyennes affichées ci-dessus sont en cohérence avec cette recommandation ?**</font>"
   ]
  },
  {
   "cell_type": "code",
   "execution_count": 6,
   "metadata": {},
   "outputs": [
    {
     "data": {
      "image/png": "[encoded data removed]",
      "text/plain": [
       "<Figure size 432x288 with 1 Axes>"
      ]
     },
     "metadata": {
      "needs_background": "light"
     },
     "output_type": "display_data"
    }
   ],
   "source": [
    "#tracé des données d'erreur au cours du mouvement\n",
    "plt.plot(time,ERMS*1000,'ob') \n",
    "plt.plot(time,Emax*1000,'or')\n",
    "plt.grid()\n",
    "plt.legend(['RMS error','Max marker error'])\n",
    "plt.xlabel('time (s)')\n",
    "plt.ylabel('Error (mm)')\n",
    "plt.show()\n",
    "\n"
   ]
  }
 ],
 "metadata": {
  "kernelspec": {
   "display_name": "Python 3",
   "language": "python",
   "name": "python3"
  },
  "language_info": {
   "codemirror_mode": {
    "name": "ipython",
    "version": 3
   },
   "file_extension": ".py",
   "mimetype": "text/x-python",
   "name": "python",
   "nbconvert_exporter": "python",
   "pygments_lexer": "ipython3",
   "version": "3.7.3"
  }
 },
 "nbformat": 4,
 "nbformat_minor": 2
}
